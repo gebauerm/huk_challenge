{
 "cells": [
  {
   "attachments": {},
   "cell_type": "markdown",
   "metadata": {},
   "source": [
    "# HUK-Coding Challenge\n",
    "\n",
    "\n",
    "__Contents__\n",
    "\n",
    "1. Data Analysis\n",
    "2. Modelbuilding\n",
    "3. Evaluation"
   ]
  },
  {
   "cell_type": "code",
   "execution_count": 62,
   "metadata": {},
   "outputs": [],
   "source": [
    "import pandas as pd\n",
    "import os\n",
    "from huk_challenge.config import ProjectPaths"
   ]
  },
  {
   "cell_type": "code",
   "execution_count": 63,
   "metadata": {},
   "outputs": [
    {
     "data": {
      "text/html": [
       "<div>\n",
       "<style scoped>\n",
       "    .dataframe tbody tr th:only-of-type {\n",
       "        vertical-align: middle;\n",
       "    }\n",
       "\n",
       "    .dataframe tbody tr th {\n",
       "        vertical-align: top;\n",
       "    }\n",
       "\n",
       "    .dataframe thead th {\n",
       "        text-align: right;\n",
       "    }\n",
       "</style>\n",
       "<table border=\"1\" class=\"dataframe\">\n",
       "  <thead>\n",
       "    <tr style=\"text-align: right;\">\n",
       "      <th></th>\n",
       "      <th>id</th>\n",
       "      <th>topic</th>\n",
       "      <th>sentiment</th>\n",
       "      <th>text</th>\n",
       "    </tr>\n",
       "  </thead>\n",
       "  <tbody>\n",
       "    <tr>\n",
       "      <th>0</th>\n",
       "      <td>3364</td>\n",
       "      <td>Facebook</td>\n",
       "      <td>Irrelevant</td>\n",
       "      <td>I mentioned on Facebook that I was struggling ...</td>\n",
       "    </tr>\n",
       "    <tr>\n",
       "      <th>1</th>\n",
       "      <td>352</td>\n",
       "      <td>Amazon</td>\n",
       "      <td>Neutral</td>\n",
       "      <td>BBC News - Amazon boss Jeff Bezos rejects clai...</td>\n",
       "    </tr>\n",
       "    <tr>\n",
       "      <th>2</th>\n",
       "      <td>8312</td>\n",
       "      <td>Microsoft</td>\n",
       "      <td>Negative</td>\n",
       "      <td>@Microsoft Why do I pay for WORD when it funct...</td>\n",
       "    </tr>\n",
       "    <tr>\n",
       "      <th>3</th>\n",
       "      <td>4371</td>\n",
       "      <td>CS-GO</td>\n",
       "      <td>Negative</td>\n",
       "      <td>CSGO matchmaking is so full of closet hacking,...</td>\n",
       "    </tr>\n",
       "    <tr>\n",
       "      <th>4</th>\n",
       "      <td>4433</td>\n",
       "      <td>Google</td>\n",
       "      <td>Neutral</td>\n",
       "      <td>Now the President is slapping Americans in the...</td>\n",
       "    </tr>\n",
       "  </tbody>\n",
       "</table>\n",
       "</div>"
      ],
      "text/plain": [
       "     id      topic   sentiment   \n",
       "0  3364   Facebook  Irrelevant  \\\n",
       "1   352     Amazon     Neutral   \n",
       "2  8312  Microsoft    Negative   \n",
       "3  4371      CS-GO    Negative   \n",
       "4  4433     Google     Neutral   \n",
       "\n",
       "                                                text  \n",
       "0  I mentioned on Facebook that I was struggling ...  \n",
       "1  BBC News - Amazon boss Jeff Bezos rejects clai...  \n",
       "2  @Microsoft Why do I pay for WORD when it funct...  \n",
       "3  CSGO matchmaking is so full of closet hacking,...  \n",
       "4  Now the President is slapping Americans in the...  "
      ]
     },
     "execution_count": 63,
     "metadata": {},
     "output_type": "execute_result"
    }
   ],
   "source": [
    "\n",
    "train = pd.read_csv(os.path.join(ProjectPaths.data, \"training.csv\"), header=None)\n",
    "vali = pd.read_csv(os.path.join(ProjectPaths.data, \"validation.csv\"), header=None)\n",
    "vali.columns = [\"id\",\"topic\", \"sentiment\", \"text\"]\n",
    "train.columns = [\"id\", \"topic\", \"sentiment\", \"text\"]\n",
    "vali.head()"
   ]
  },
  {
   "attachments": {},
   "cell_type": "markdown",
   "metadata": {},
   "source": [
    "## 1. Explorative Analysis\n",
    "\n",
    "This __analysis explores the training dataset__. \n",
    "\n",
    "__Validation dataset will be treated as it is an unknown dataset__, since we will just evaluate the performance on it. We will only preprocess the individual strings we receive from the validation dataset.\n"
   ]
  },
  {
   "cell_type": "code",
   "execution_count": 64,
   "metadata": {},
   "outputs": [
    {
     "name": "stdout",
     "output_type": "stream",
     "text": [
      "Training examples: 74682\n",
      "Validation examples: 1000\n"
     ]
    }
   ],
   "source": [
    "print(f\"Training examples: {train.shape[0]}\")\n",
    "print(f\"Validation examples: {vali.shape[0]}\")"
   ]
  },
  {
   "cell_type": "code",
   "execution_count": 65,
   "metadata": {},
   "outputs": [
    {
     "data": {
      "text/plain": [
       "<Axes: xlabel='sentiment', ylabel='count'>"
      ]
     },
     "execution_count": 65,
     "metadata": {},
     "output_type": "execute_result"
    },
    {
     "data": {
      "image/png": "[encoded data removed]",
      "text/plain": [
       "<Figure size 640x480 with 1 Axes>"
      ]
     },
     "metadata": {},
     "output_type": "display_data"
    }
   ],
   "source": [
    "import seaborn as sns\n",
    "\n",
    "sns.countplot(train, x=\"sentiment\")"
   ]
  },
  {
   "cell_type": "code",
   "execution_count": 66,
   "metadata": {},
   "outputs": [
    {
     "data": {
      "text/plain": [
       "'I\\'m in fact this entire @CBP video. @DHS_Wolf deceptively cut these parts of our report :.. The [UNK] before saying \" this is ripping into Arizona and... the rest side of the borderlands in two. \". [UNK] admittedly surveilling us on public road after violent clashes began with Indigenous American activists over protesting wall.'"
      ]
     },
     "execution_count": 66,
     "metadata": {},
     "output_type": "execute_result"
    }
   ],
   "source": [
    "irrelevant = train.loc[train[\"sentiment\"] == \"Irrelevant\", \"text\"]\n",
    "irrelevant.iloc[22]"
   ]
  },
  {
   "attachments": {},
   "cell_type": "markdown",
   "metadata": {},
   "source": [
    "Looking through a few of the examples marked as _irrelevant_ they do seem irrelevant for the sentiment. Therefore these examples will be excluded from training.\n",
    "However a robust Sentiment Classification model should be able to detect, when some examples are out of distribution -meaning they are not part of the distribution the model was trained on. There is variety of literature ob that including some previous publications I worked on. For now entries marked as _irrelevant_ in the training set will simply be excluded.\n",
    "\n",
    "Publication Example: [Bounding open space risk with decoupling autoencoders in open set recognition](https://link.springer.com/article/10.1007/s41060-022-00342-z)\n",
    "\n",
    "Entities, seem to be marked wth \"@\" symbols.\n",
    "\n",
    "\n",
    "### Filter empty entries"
   ]
  },
  {
   "cell_type": "code",
   "execution_count": 67,
   "metadata": {},
   "outputs": [
    {
     "name": "stdout",
     "output_type": "stream",
     "text": [
      "Training examples: 61692\n"
     ]
    }
   ],
   "source": [
    "filtered_train = train.loc[train[\"sentiment\"] != \"Irrelevant\",:]\n",
    "print(f\"Training examples: {filtered_train.shape[0]}\")"
   ]
  },
  {
   "cell_type": "code",
   "execution_count": 68,
   "metadata": {},
   "outputs": [
    {
     "name": "stdout",
     "output_type": "stream",
     "text": [
      "Training examples: 61121\n"
     ]
    }
   ],
   "source": [
    "filtered_train = filtered_train.loc[~filtered_train[\"text\"].isna(),:]\n",
    "print(f\"Training examples: {filtered_train.shape[0]}\")"
   ]
  },
  {
   "cell_type": "code",
   "execution_count": 69,
   "metadata": {},
   "outputs": [
    {
     "data": {
      "text/html": [
       "<div>\n",
       "<style scoped>\n",
       "    .dataframe tbody tr th:only-of-type {\n",
       "        vertical-align: middle;\n",
       "    }\n",
       "\n",
       "    .dataframe tbody tr th {\n",
       "        vertical-align: top;\n",
       "    }\n",
       "\n",
       "    .dataframe thead th {\n",
       "        text-align: right;\n",
       "    }\n",
       "</style>\n",
       "<table border=\"1\" class=\"dataframe\">\n",
       "  <thead>\n",
       "    <tr style=\"text-align: right;\">\n",
       "      <th></th>\n",
       "      <th>id</th>\n",
       "      <th>topic</th>\n",
       "      <th>sentiment</th>\n",
       "      <th>text</th>\n",
       "    </tr>\n",
       "  </thead>\n",
       "  <tbody>\n",
       "  </tbody>\n",
       "</table>\n",
       "</div>"
      ],
      "text/plain": [
       "Empty DataFrame\n",
       "Columns: [id, topic, sentiment, text]\n",
       "Index: []"
      ]
     },
     "execution_count": 69,
     "metadata": {},
     "output_type": "execute_result"
    }
   ],
   "source": [
    "filtered_train.loc[filtered_train[\"text\"] == \"\", :]"
   ]
  },
  {
   "attachments": {},
   "cell_type": "markdown",
   "metadata": {},
   "source": [
    "### Filter Meaningless Entries"
   ]
  },
  {
   "cell_type": "code",
   "execution_count": 70,
   "metadata": {},
   "outputs": [
    {
     "data": {
      "text/html": [
       "<div>\n",
       "<style scoped>\n",
       "    .dataframe tbody tr th:only-of-type {\n",
       "        vertical-align: middle;\n",
       "    }\n",
       "\n",
       "    .dataframe tbody tr th {\n",
       "        vertical-align: top;\n",
       "    }\n",
       "\n",
       "    .dataframe thead th {\n",
       "        text-align: right;\n",
       "    }\n",
       "</style>\n",
       "<table border=\"1\" class=\"dataframe\">\n",
       "  <thead>\n",
       "    <tr style=\"text-align: right;\">\n",
       "      <th></th>\n",
       "      <th>id</th>\n",
       "      <th>topic</th>\n",
       "      <th>sentiment</th>\n",
       "      <th>text</th>\n",
       "    </tr>\n",
       "  </thead>\n",
       "  <tbody>\n",
       "    <tr>\n",
       "      <th>11</th>\n",
       "      <td>2402</td>\n",
       "      <td>Borderlands</td>\n",
       "      <td>Positive</td>\n",
       "      <td>was</td>\n",
       "    </tr>\n",
       "    <tr>\n",
       "      <th>53</th>\n",
       "      <td>2409</td>\n",
       "      <td>Borderlands</td>\n",
       "      <td>Neutral</td>\n",
       "      <td>all</td>\n",
       "    </tr>\n",
       "    <tr>\n",
       "      <th>191</th>\n",
       "      <td>2432</td>\n",
       "      <td>Borderlands</td>\n",
       "      <td>Positive</td>\n",
       "      <td>why</td>\n",
       "    </tr>\n",
       "    <tr>\n",
       "      <th>455</th>\n",
       "      <td>2476</td>\n",
       "      <td>Borderlands</td>\n",
       "      <td>Positive</td>\n",
       "      <td>one</td>\n",
       "    </tr>\n",
       "    <tr>\n",
       "      <th>467</th>\n",
       "      <td>2478</td>\n",
       "      <td>Borderlands</td>\n",
       "      <td>Positive</td>\n",
       "      <td>can</td>\n",
       "    </tr>\n",
       "    <tr>\n",
       "      <th>...</th>\n",
       "      <td>...</td>\n",
       "      <td>...</td>\n",
       "      <td>...</td>\n",
       "      <td>...</td>\n",
       "    </tr>\n",
       "    <tr>\n",
       "      <th>74369</th>\n",
       "      <td>9144</td>\n",
       "      <td>Nvidia</td>\n",
       "      <td>Negative</td>\n",
       "      <td>the</td>\n",
       "    </tr>\n",
       "    <tr>\n",
       "      <th>74387</th>\n",
       "      <td>9147</td>\n",
       "      <td>Nvidia</td>\n",
       "      <td>Positive</td>\n",
       "      <td>and</td>\n",
       "    </tr>\n",
       "    <tr>\n",
       "      <th>74393</th>\n",
       "      <td>9148</td>\n",
       "      <td>Nvidia</td>\n",
       "      <td>Neutral</td>\n",
       "      <td>the</td>\n",
       "    </tr>\n",
       "    <tr>\n",
       "      <th>74507</th>\n",
       "      <td>9171</td>\n",
       "      <td>Nvidia</td>\n",
       "      <td>Neutral</td>\n",
       "      <td>You</td>\n",
       "    </tr>\n",
       "    <tr>\n",
       "      <th>74591</th>\n",
       "      <td>9185</td>\n",
       "      <td>Nvidia</td>\n",
       "      <td>Neutral</td>\n",
       "      <td>you</td>\n",
       "    </tr>\n",
       "  </tbody>\n",
       "</table>\n",
       "<p>499 rows × 4 columns</p>\n",
       "</div>"
      ],
      "text/plain": [
       "         id        topic sentiment text\n",
       "11     2402  Borderlands  Positive  was\n",
       "53     2409  Borderlands   Neutral  all\n",
       "191    2432  Borderlands  Positive  why\n",
       "455    2476  Borderlands  Positive  one\n",
       "467    2478  Borderlands  Positive  can\n",
       "...     ...          ...       ...  ...\n",
       "74369  9144       Nvidia  Negative  the\n",
       "74387  9147       Nvidia  Positive  and\n",
       "74393  9148       Nvidia   Neutral  the\n",
       "74507  9171       Nvidia   Neutral  You\n",
       "74591  9185       Nvidia   Neutral  you\n",
       "\n",
       "[499 rows x 4 columns]"
      ]
     },
     "execution_count": 70,
     "metadata": {},
     "output_type": "execute_result"
    }
   ],
   "source": [
    "filtered_train.loc[filtered_train[\"text\"].apply(lambda x: len(x) == 3), :]"
   ]
  },
  {
   "attachments": {},
   "cell_type": "markdown",
   "metadata": {},
   "source": [
    "* Texts with minor lengths do not seem to have relevant content\n",
    "* Sentiments are not in line with used words\n",
    "\n",
    "--> Exclude them from the training set\n",
    "\n",
    "I checked for more lengths and decided to exclude everything below, a meaningful length of 3, as words like \"Wow\" already indicate a positive sentiment. However there are still words which are not meaningful."
   ]
  },
  {
   "cell_type": "code",
   "execution_count": 71,
   "metadata": {},
   "outputs": [],
   "source": [
    "filtered_train = filtered_train.loc[filtered_train[\"text\"].apply(lambda x: len(x) > 2), :]"
   ]
  },
  {
   "attachments": {},
   "cell_type": "markdown",
   "metadata": {},
   "source": [
    "### Stopword Removal (Entries)\n",
    "\n",
    "* To get rid of more meaningless words, one option is to exclude stopwords. I used nltks list of __english stopwords__ and filtered the dataset for it."
   ]
  },
  {
   "cell_type": "code",
   "execution_count": 72,
   "metadata": {},
   "outputs": [
    {
     "name": "stderr",
     "output_type": "stream",
     "text": [
      "[nltk_data] Downloading package stopwords to\n",
      "[nltk_data]     /home/elysias/nltk_data...\n",
      "[nltk_data]   Package stopwords is already up-to-date!\n"
     ]
    },
    {
     "name": "stdout",
     "output_type": "stream",
     "text": [
      "Training examples: 59944\n"
     ]
    }
   ],
   "source": [
    "import nltk\n",
    "nltk.download(\"stopwords\")\n",
    "from nltk.corpus import stopwords\n",
    "\n",
    "\n",
    "def remove_stops(tweet):\n",
    "    tweet = tweet.lower()\n",
    "    stops = set(stopwords.words('english'))\n",
    "    val = True\n",
    "    if tweet in stops:\n",
    "        val = False\n",
    "    return val\n",
    "\n",
    "filtered_train = filtered_train.loc[filtered_train[\"text\"].apply(remove_stops), :]\n",
    "print(f\"Training examples: {filtered_train.shape[0]}\")"
   ]
  },
  {
   "attachments": {},
   "cell_type": "markdown",
   "metadata": {},
   "source": [
    "Lets compare that, with our previous useless words:\n",
    "\n",
    "We see that mostly positive sentiments expressed by \"Wow\" seem to remain.\n",
    "However here we may run into a data leackage problem, as \"Wow\" is then trained for __multiple times__, which might not change much and the word may be given to much weight. We therefore need to make sure to need __unique entries__."
   ]
  },
  {
   "cell_type": "code",
   "execution_count": 73,
   "metadata": {},
   "outputs": [
    {
     "data": {
      "text/html": [
       "<div>\n",
       "<style scoped>\n",
       "    .dataframe tbody tr th:only-of-type {\n",
       "        vertical-align: middle;\n",
       "    }\n",
       "\n",
       "    .dataframe tbody tr th {\n",
       "        vertical-align: top;\n",
       "    }\n",
       "\n",
       "    .dataframe thead th {\n",
       "        text-align: right;\n",
       "    }\n",
       "</style>\n",
       "<table border=\"1\" class=\"dataframe\">\n",
       "  <thead>\n",
       "    <tr style=\"text-align: right;\">\n",
       "      <th></th>\n",
       "      <th>id</th>\n",
       "      <th>topic</th>\n",
       "      <th>sentiment</th>\n",
       "      <th>text</th>\n",
       "    </tr>\n",
       "  </thead>\n",
       "  <tbody>\n",
       "    <tr>\n",
       "      <th>455</th>\n",
       "      <td>2476</td>\n",
       "      <td>Borderlands</td>\n",
       "      <td>Positive</td>\n",
       "      <td>one</td>\n",
       "    </tr>\n",
       "    <tr>\n",
       "      <th>2094</th>\n",
       "      <td>2767</td>\n",
       "      <td>Borderlands</td>\n",
       "      <td>Positive</td>\n",
       "      <td>Wow</td>\n",
       "    </tr>\n",
       "    <tr>\n",
       "      <th>2095</th>\n",
       "      <td>2767</td>\n",
       "      <td>Borderlands</td>\n",
       "      <td>Positive</td>\n",
       "      <td>Wow</td>\n",
       "    </tr>\n",
       "    <tr>\n",
       "      <th>2096</th>\n",
       "      <td>2767</td>\n",
       "      <td>Borderlands</td>\n",
       "      <td>Positive</td>\n",
       "      <td>Wow</td>\n",
       "    </tr>\n",
       "    <tr>\n",
       "      <th>2097</th>\n",
       "      <td>2767</td>\n",
       "      <td>Borderlands</td>\n",
       "      <td>Positive</td>\n",
       "      <td>Wow</td>\n",
       "    </tr>\n",
       "    <tr>\n",
       "      <th>...</th>\n",
       "      <td>...</td>\n",
       "      <td>...</td>\n",
       "      <td>...</td>\n",
       "      <td>...</td>\n",
       "    </tr>\n",
       "    <tr>\n",
       "      <th>72426</th>\n",
       "      <td>8808</td>\n",
       "      <td>Nvidia</td>\n",
       "      <td>Positive</td>\n",
       "      <td>Wow</td>\n",
       "    </tr>\n",
       "    <tr>\n",
       "      <th>72427</th>\n",
       "      <td>8808</td>\n",
       "      <td>Nvidia</td>\n",
       "      <td>Positive</td>\n",
       "      <td>Wow</td>\n",
       "    </tr>\n",
       "    <tr>\n",
       "      <th>72428</th>\n",
       "      <td>8808</td>\n",
       "      <td>Nvidia</td>\n",
       "      <td>Positive</td>\n",
       "      <td>Wow</td>\n",
       "    </tr>\n",
       "    <tr>\n",
       "      <th>72429</th>\n",
       "      <td>8808</td>\n",
       "      <td>Nvidia</td>\n",
       "      <td>Positive</td>\n",
       "      <td>Wow</td>\n",
       "    </tr>\n",
       "    <tr>\n",
       "      <th>72431</th>\n",
       "      <td>8808</td>\n",
       "      <td>Nvidia</td>\n",
       "      <td>Positive</td>\n",
       "      <td>Wow</td>\n",
       "    </tr>\n",
       "  </tbody>\n",
       "</table>\n",
       "<p>185 rows × 4 columns</p>\n",
       "</div>"
      ],
      "text/plain": [
       "         id        topic sentiment text\n",
       "455    2476  Borderlands  Positive  one\n",
       "2094   2767  Borderlands  Positive  Wow\n",
       "2095   2767  Borderlands  Positive  Wow\n",
       "2096   2767  Borderlands  Positive  Wow\n",
       "2097   2767  Borderlands  Positive  Wow\n",
       "...     ...          ...       ...  ...\n",
       "72426  8808       Nvidia  Positive  Wow\n",
       "72427  8808       Nvidia  Positive  Wow\n",
       "72428  8808       Nvidia  Positive  Wow\n",
       "72429  8808       Nvidia  Positive  Wow\n",
       "72431  8808       Nvidia  Positive  Wow\n",
       "\n",
       "[185 rows x 4 columns]"
      ]
     },
     "execution_count": 73,
     "metadata": {},
     "output_type": "execute_result"
    }
   ],
   "source": [
    "filtered_train.loc[filtered_train[\"text\"].apply(lambda x: len(x) == 3), :]"
   ]
  },
  {
   "attachments": {},
   "cell_type": "markdown",
   "metadata": {},
   "source": [
    "Looks way better now!\n",
    "\n",
    "### Drop Duplicates\n",
    "\n",
    "* Wow occures multiple times\n",
    "* we want to avoid bias through data leackage -> therefore we drop all duplicates\n"
   ]
  },
  {
   "cell_type": "code",
   "execution_count": 74,
   "metadata": {},
   "outputs": [
    {
     "name": "stdout",
     "output_type": "stream",
     "text": [
      "Training examples: 57207\n"
     ]
    }
   ],
   "source": [
    "filtered_train = filtered_train.drop_duplicates(subset=\"text\")\n",
    "print(f\"Training examples: {filtered_train.shape[0]}\")"
   ]
  },
  {
   "attachments": {},
   "cell_type": "markdown",
   "metadata": {},
   "source": [
    "### Check Language\n",
    "\n",
    "* I would check for the language at that point\n",
    "* Execution time on my local machine is too long - therefore I skipped this part\n",
    "\n",
    "-> It is also reasonable to check language before performing inference."
   ]
  },
  {
   "cell_type": "code",
   "execution_count": 76,
   "metadata": {},
   "outputs": [],
   "source": [
    "# from langdetect import detect\n",
    "# from langdetect import LangDetectException\n",
    "\n",
    "\n",
    "# def detect_lang(tweet):\n",
    "#     try:\n",
    "#         language = detect(tweet.lower())\n",
    "#     except LangDetectException:\n",
    "#         language = tweet\n",
    "#     return language\n",
    "\n",
    "# languages = filtered_train[\"text\"].apply(lambda x: detect_lang(x))\n",
    "# set(languages)"
   ]
  },
  {
   "attachments": {},
   "cell_type": "markdown",
   "metadata": {},
   "source": [
    "### ID Field\n",
    "\n",
    "* The provided ID field could either indicate __users__ or __subtopics__\n",
    "* Identical IDs always talk about a similar topic and subtopic\n",
    "* Same ID tweets are always very similar, but not identical\n",
    "\n",
    "--> Playing with them around in the sentiment classification might give variying results, in our current approach we will include all statements from similar IDs"
   ]
  },
  {
   "cell_type": "code",
   "execution_count": 90,
   "metadata": {},
   "outputs": [
    {
     "data": {
      "text/plain": [
       "{'sentiment': {444: 'Positive',\n",
       "  445: 'Positive',\n",
       "  446: 'Positive',\n",
       "  447: 'Positive',\n",
       "  448: 'Positive',\n",
       "  449: 'Positive'},\n",
       " 'text': {444: 'Just officiated a gay wedding in Borderlands 3, feeling powerful rn.',\n",
       "  445: 'I just celebrated a gay wedding in Borderlands 3 and felt powerful.',\n",
       "  446: 'Just played a gay wedding in Borderlands 3, feeling powerful.',\n",
       "  447: 'Just officiated a gay wedding in Borderlands 3, the powerful rn.',\n",
       "  448: 'Just officiated a gay fan wedding in WWE Borderlands Episode 3, feeling powerful rn.',\n",
       "  449: 'once officiated a gay wedding in Borderlands 3, as powerful rn.'}}"
      ]
     },
     "execution_count": 90,
     "metadata": {},
     "output_type": "execute_result"
    }
   ],
   "source": [
    "filtered_train.loc[filtered_train[\"id\"] == 2475, [\"sentiment\", \"text\"]].to_dict()"
   ]
  },
  {
   "attachments": {},
   "cell_type": "markdown",
   "metadata": {},
   "source": [
    "### Class balance after filtering"
   ]
  },
  {
   "cell_type": "code",
   "execution_count": 91,
   "metadata": {},
   "outputs": [
    {
     "data": {
      "text/plain": [
       "<Axes: xlabel='sentiment', ylabel='count'>"
      ]
     },
     "execution_count": 91,
     "metadata": {},
     "output_type": "execute_result"
    },
    {
     "data": {
      "image/png": "[encoded data removed]",
      "text/plain": [
       "<Figure size 640x480 with 1 Axes>"
      ]
     },
     "metadata": {},
     "output_type": "display_data"
    }
   ],
   "source": [
    "sns.countplot(filtered_train, x=\"sentiment\")"
   ]
  },
  {
   "attachments": {},
   "cell_type": "markdown",
   "metadata": {},
   "source": [
    "### Further Options for Analysis:\n",
    "\n",
    "* Plot Word Embeddings, with the Langauge Model we are going to use and get an impression for the difficulty\n",
    "* Identify Edges of the given Training classes --> Which instances are very similar to others?\n",
    "\n",
    "This can also be performed in an ex post analysis, when investigating the probability predictions of the model."
   ]
  },
  {
   "attachments": {},
   "cell_type": "markdown",
   "metadata": {},
   "source": [
    "## 2. Modelbuilding"
   ]
  },
  {
   "cell_type": "markdown",
   "metadata": {},
   "source": []
  }
 ],
 "metadata": {
  "kernelspec": {
   "display_name": ".venv",
   "language": "python",
   "name": "python3"
  },
  "language_info": {
   "codemirror_mode": {
    "name": "ipython",
    "version": 3
   },
   "file_extension": ".py",
   "mimetype": "text/x-python",
   "name": "python",
   "nbconvert_exporter": "python",
   "pygments_lexer": "ipython3",
   "version": "3.9.6"
  },
  "orig_nbformat": 4
 },
 "nbformat": 4,
 "nbformat_minor": 2
}
