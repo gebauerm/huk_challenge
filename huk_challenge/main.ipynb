{
 "cells": [
  {
   "attachments": {},
   "cell_type": "markdown",
   "metadata": {},
   "source": [
    "# HUK-Coding Challenge\n",
    "\n",
    "\n",
    "__Contents__\n",
    "\n",
    "1. Data Analysis\n",
    "2. Modelbuilding\n",
    "3. Evaluation\n",
    "\n",
    "\n",
    "## Loading the Data and Project Paths"
   ]
  },
  {
   "cell_type": "code",
   "execution_count": 18,
   "metadata": {},
   "outputs": [],
   "source": [
    "import pandas as pd\n",
    "import os\n",
    "from huk_challenge.config import ProjectPaths"
   ]
  },
  {
   "cell_type": "code",
   "execution_count": 19,
   "metadata": {},
   "outputs": [
    {
     "data": {
      "text/html": [
       "<div>\n",
       "<style scoped>\n",
       "    .dataframe tbody tr th:only-of-type {\n",
       "        vertical-align: middle;\n",
       "    }\n",
       "\n",
       "    .dataframe tbody tr th {\n",
       "        vertical-align: top;\n",
       "    }\n",
       "\n",
       "    .dataframe thead th {\n",
       "        text-align: right;\n",
       "    }\n",
       "</style>\n",
       "<table border=\"1\" class=\"dataframe\">\n",
       "  <thead>\n",
       "    <tr style=\"text-align: right;\">\n",
       "      <th></th>\n",
       "      <th>id</th>\n",
       "      <th>topic</th>\n",
       "      <th>sentiment</th>\n",
       "      <th>text</th>\n",
       "    </tr>\n",
       "  </thead>\n",
       "  <tbody>\n",
       "    <tr>\n",
       "      <th>0</th>\n",
       "      <td>3364</td>\n",
       "      <td>Facebook</td>\n",
       "      <td>Irrelevant</td>\n",
       "      <td>I mentioned on Facebook that I was struggling ...</td>\n",
       "    </tr>\n",
       "    <tr>\n",
       "      <th>1</th>\n",
       "      <td>352</td>\n",
       "      <td>Amazon</td>\n",
       "      <td>Neutral</td>\n",
       "      <td>BBC News - Amazon boss Jeff Bezos rejects clai...</td>\n",
       "    </tr>\n",
       "    <tr>\n",
       "      <th>2</th>\n",
       "      <td>8312</td>\n",
       "      <td>Microsoft</td>\n",
       "      <td>Negative</td>\n",
       "      <td>@Microsoft Why do I pay for WORD when it funct...</td>\n",
       "    </tr>\n",
       "    <tr>\n",
       "      <th>3</th>\n",
       "      <td>4371</td>\n",
       "      <td>CS-GO</td>\n",
       "      <td>Negative</td>\n",
       "      <td>CSGO matchmaking is so full of closet hacking,...</td>\n",
       "    </tr>\n",
       "    <tr>\n",
       "      <th>4</th>\n",
       "      <td>4433</td>\n",
       "      <td>Google</td>\n",
       "      <td>Neutral</td>\n",
       "      <td>Now the President is slapping Americans in the...</td>\n",
       "    </tr>\n",
       "  </tbody>\n",
       "</table>\n",
       "</div>"
      ],
      "text/plain": [
       "     id      topic   sentiment   \n",
       "0  3364   Facebook  Irrelevant  \\\n",
       "1   352     Amazon     Neutral   \n",
       "2  8312  Microsoft    Negative   \n",
       "3  4371      CS-GO    Negative   \n",
       "4  4433     Google     Neutral   \n",
       "\n",
       "                                                text  \n",
       "0  I mentioned on Facebook that I was struggling ...  \n",
       "1  BBC News - Amazon boss Jeff Bezos rejects clai...  \n",
       "2  @Microsoft Why do I pay for WORD when it funct...  \n",
       "3  CSGO matchmaking is so full of closet hacking,...  \n",
       "4  Now the President is slapping Americans in the...  "
      ]
     },
     "execution_count": 19,
     "metadata": {},
     "output_type": "execute_result"
    }
   ],
   "source": [
    "\n",
    "train = pd.read_csv(os.path.join(ProjectPaths.data, \"training.csv\"), header=None)\n",
    "vali = pd.read_csv(os.path.join(ProjectPaths.data, \"validation.csv\"), header=None)\n",
    "vali.columns = [\"id\",\"topic\", \"sentiment\", \"text\"]\n",
    "train.columns = [\"id\", \"topic\", \"sentiment\", \"text\"]\n",
    "vali.head()"
   ]
  },
  {
   "attachments": {},
   "cell_type": "markdown",
   "metadata": {},
   "source": [
    "## 1. Explorative Analysis\n",
    "\n",
    "This __analysis explores the training dataset__. \n",
    "\n",
    "__Validation dataset will be treated as it is an unknown dataset__, since we will just evaluate the performance on it. We will only preprocess the individual strings we receive from the validation dataset.\n"
   ]
  },
  {
   "cell_type": "code",
   "execution_count": 20,
   "metadata": {},
   "outputs": [
    {
     "name": "stdout",
     "output_type": "stream",
     "text": [
      "Training examples: 74682\n",
      "Validation examples: 1000\n"
     ]
    }
   ],
   "source": [
    "print(f\"Training examples: {train.shape[0]}\")\n",
    "print(f\"Validation examples: {vali.shape[0]}\")"
   ]
  },
  {
   "cell_type": "code",
   "execution_count": 21,
   "metadata": {},
   "outputs": [
    {
     "data": {
      "text/plain": [
       "<Axes: xlabel='sentiment', ylabel='count'>"
      ]
     },
     "execution_count": 21,
     "metadata": {},
     "output_type": "execute_result"
    },
    {
     "data": {
      "image/png": "[encoded data removed]",
      "text/plain": [
       "<Figure size 640x480 with 1 Axes>"
      ]
     },
     "metadata": {},
     "output_type": "display_data"
    }
   ],
   "source": [
    "import seaborn as sns\n",
    "\n",
    "sns.countplot(train, x=\"sentiment\")"
   ]
  },
  {
   "attachments": {},
   "cell_type": "markdown",
   "metadata": {},
   "source": [
    "### Filter empty entries"
   ]
  },
  {
   "cell_type": "code",
   "execution_count": 22,
   "metadata": {},
   "outputs": [
    {
     "name": "stdout",
     "output_type": "stream",
     "text": [
      "Training examples: 73996\n"
     ]
    }
   ],
   "source": [
    "filtered_train = train.loc[~train[\"text\"].isna(),:]\n",
    "print(f\"Training examples: {filtered_train.shape[0]}\")"
   ]
  },
  {
   "cell_type": "code",
   "execution_count": 23,
   "metadata": {},
   "outputs": [
    {
     "data": {
      "text/html": [
       "<div>\n",
       "<style scoped>\n",
       "    .dataframe tbody tr th:only-of-type {\n",
       "        vertical-align: middle;\n",
       "    }\n",
       "\n",
       "    .dataframe tbody tr th {\n",
       "        vertical-align: top;\n",
       "    }\n",
       "\n",
       "    .dataframe thead th {\n",
       "        text-align: right;\n",
       "    }\n",
       "</style>\n",
       "<table border=\"1\" class=\"dataframe\">\n",
       "  <thead>\n",
       "    <tr style=\"text-align: right;\">\n",
       "      <th></th>\n",
       "      <th>id</th>\n",
       "      <th>topic</th>\n",
       "      <th>sentiment</th>\n",
       "      <th>text</th>\n",
       "    </tr>\n",
       "  </thead>\n",
       "  <tbody>\n",
       "  </tbody>\n",
       "</table>\n",
       "</div>"
      ],
      "text/plain": [
       "Empty DataFrame\n",
       "Columns: [id, topic, sentiment, text]\n",
       "Index: []"
      ]
     },
     "execution_count": 23,
     "metadata": {},
     "output_type": "execute_result"
    }
   ],
   "source": [
    "filtered_train.loc[filtered_train[\"text\"] == \"\", :]"
   ]
  },
  {
   "attachments": {},
   "cell_type": "markdown",
   "metadata": {},
   "source": [
    "### Filter Meaningless Entries\n",
    "\n",
    "__meaningless__ = entries, that are either stopwords or to short to convey a message"
   ]
  },
  {
   "cell_type": "code",
   "execution_count": 24,
   "metadata": {},
   "outputs": [
    {
     "data": {
      "text/html": [
       "<div>\n",
       "<style scoped>\n",
       "    .dataframe tbody tr th:only-of-type {\n",
       "        vertical-align: middle;\n",
       "    }\n",
       "\n",
       "    .dataframe tbody tr th {\n",
       "        vertical-align: top;\n",
       "    }\n",
       "\n",
       "    .dataframe thead th {\n",
       "        text-align: right;\n",
       "    }\n",
       "</style>\n",
       "<table border=\"1\" class=\"dataframe\">\n",
       "  <thead>\n",
       "    <tr style=\"text-align: right;\">\n",
       "      <th></th>\n",
       "      <th>id</th>\n",
       "      <th>topic</th>\n",
       "      <th>sentiment</th>\n",
       "      <th>text</th>\n",
       "    </tr>\n",
       "  </thead>\n",
       "  <tbody>\n",
       "    <tr>\n",
       "      <th>11</th>\n",
       "      <td>2402</td>\n",
       "      <td>Borderlands</td>\n",
       "      <td>Positive</td>\n",
       "      <td>was</td>\n",
       "    </tr>\n",
       "    <tr>\n",
       "      <th>53</th>\n",
       "      <td>2409</td>\n",
       "      <td>Borderlands</td>\n",
       "      <td>Neutral</td>\n",
       "      <td>all</td>\n",
       "    </tr>\n",
       "    <tr>\n",
       "      <th>191</th>\n",
       "      <td>2432</td>\n",
       "      <td>Borderlands</td>\n",
       "      <td>Positive</td>\n",
       "      <td>why</td>\n",
       "    </tr>\n",
       "    <tr>\n",
       "      <th>455</th>\n",
       "      <td>2476</td>\n",
       "      <td>Borderlands</td>\n",
       "      <td>Positive</td>\n",
       "      <td>one</td>\n",
       "    </tr>\n",
       "    <tr>\n",
       "      <th>467</th>\n",
       "      <td>2478</td>\n",
       "      <td>Borderlands</td>\n",
       "      <td>Positive</td>\n",
       "      <td>can</td>\n",
       "    </tr>\n",
       "    <tr>\n",
       "      <th>...</th>\n",
       "      <td>...</td>\n",
       "      <td>...</td>\n",
       "      <td>...</td>\n",
       "      <td>...</td>\n",
       "    </tr>\n",
       "    <tr>\n",
       "      <th>74369</th>\n",
       "      <td>9144</td>\n",
       "      <td>Nvidia</td>\n",
       "      <td>Negative</td>\n",
       "      <td>the</td>\n",
       "    </tr>\n",
       "    <tr>\n",
       "      <th>74387</th>\n",
       "      <td>9147</td>\n",
       "      <td>Nvidia</td>\n",
       "      <td>Positive</td>\n",
       "      <td>and</td>\n",
       "    </tr>\n",
       "    <tr>\n",
       "      <th>74393</th>\n",
       "      <td>9148</td>\n",
       "      <td>Nvidia</td>\n",
       "      <td>Neutral</td>\n",
       "      <td>the</td>\n",
       "    </tr>\n",
       "    <tr>\n",
       "      <th>74507</th>\n",
       "      <td>9171</td>\n",
       "      <td>Nvidia</td>\n",
       "      <td>Neutral</td>\n",
       "      <td>You</td>\n",
       "    </tr>\n",
       "    <tr>\n",
       "      <th>74591</th>\n",
       "      <td>9185</td>\n",
       "      <td>Nvidia</td>\n",
       "      <td>Neutral</td>\n",
       "      <td>you</td>\n",
       "    </tr>\n",
       "  </tbody>\n",
       "</table>\n",
       "<p>562 rows × 4 columns</p>\n",
       "</div>"
      ],
      "text/plain": [
       "         id        topic sentiment text\n",
       "11     2402  Borderlands  Positive  was\n",
       "53     2409  Borderlands   Neutral  all\n",
       "191    2432  Borderlands  Positive  why\n",
       "455    2476  Borderlands  Positive  one\n",
       "467    2478  Borderlands  Positive  can\n",
       "...     ...          ...       ...  ...\n",
       "74369  9144       Nvidia  Negative  the\n",
       "74387  9147       Nvidia  Positive  and\n",
       "74393  9148       Nvidia   Neutral  the\n",
       "74507  9171       Nvidia   Neutral  You\n",
       "74591  9185       Nvidia   Neutral  you\n",
       "\n",
       "[562 rows x 4 columns]"
      ]
     },
     "execution_count": 24,
     "metadata": {},
     "output_type": "execute_result"
    }
   ],
   "source": [
    "filtered_train.loc[filtered_train[\"text\"].apply(lambda x: len(x) == 3), :]"
   ]
  },
  {
   "attachments": {},
   "cell_type": "markdown",
   "metadata": {},
   "source": [
    "* Texts with minor lengths do not seem to have relevant content\n",
    "* Sentiments are not in line with used words\n",
    "\n",
    "--> Exclude them from the training set\n",
    "\n",
    "I checked for more lengths and decided to exclude everything below, a meaningful length of 3, as __words like \"Wow\" already indicate a positive sentiment__. However there are still words which are not meaningful."
   ]
  },
  {
   "cell_type": "code",
   "execution_count": 25,
   "metadata": {},
   "outputs": [],
   "source": [
    "filtered_train = filtered_train.loc[filtered_train[\"text\"].apply(lambda x: len(x) > 2), :]"
   ]
  },
  {
   "attachments": {},
   "cell_type": "markdown",
   "metadata": {},
   "source": [
    "#### Stopword Removal (Entries)\n",
    "\n",
    "* To get rid of more meaningless words, one option is to exclude stopwords. I used nltks list of __english stopwords__ and filtered the dataset for it."
   ]
  },
  {
   "cell_type": "code",
   "execution_count": 26,
   "metadata": {},
   "outputs": [
    {
     "name": "stderr",
     "output_type": "stream",
     "text": [
      "[nltk_data] Downloading package stopwords to\n",
      "[nltk_data]     /home/elysias/nltk_data...\n",
      "[nltk_data]   Package stopwords is already up-to-date!\n"
     ]
    },
    {
     "name": "stdout",
     "output_type": "stream",
     "text": [
      "Training examples: 72612\n"
     ]
    }
   ],
   "source": [
    "import nltk\n",
    "nltk.download(\"stopwords\")\n",
    "from nltk.corpus import stopwords\n",
    "\n",
    "\n",
    "def remove_stops(tweet):\n",
    "    tweet = tweet.lower()\n",
    "    stops = set(stopwords.words('english'))\n",
    "    val = True\n",
    "    if tweet in stops:\n",
    "        val = False\n",
    "    return val\n",
    "\n",
    "filtered_train = filtered_train.loc[filtered_train[\"text\"].apply(remove_stops), :]\n",
    "print(f\"Training examples: {filtered_train.shape[0]}\")"
   ]
  },
  {
   "attachments": {},
   "cell_type": "markdown",
   "metadata": {},
   "source": [
    "Lets compare that, with our previous useless words:\n",
    "\n",
    "We see that __mostly positive sentiments expressed by \"Wow\" seem to remain__.\n",
    "However here we may run into a data leackage problem, as \"Wow\" is then trained for __multiple times__, which might not change much and the word may be given to much weight. We therefore need to make sure to need __unique entries__."
   ]
  },
  {
   "cell_type": "code",
   "execution_count": 27,
   "metadata": {},
   "outputs": [
    {
     "data": {
      "text/html": [
       "<div>\n",
       "<style scoped>\n",
       "    .dataframe tbody tr th:only-of-type {\n",
       "        vertical-align: middle;\n",
       "    }\n",
       "\n",
       "    .dataframe tbody tr th {\n",
       "        vertical-align: top;\n",
       "    }\n",
       "\n",
       "    .dataframe thead th {\n",
       "        text-align: right;\n",
       "    }\n",
       "</style>\n",
       "<table border=\"1\" class=\"dataframe\">\n",
       "  <thead>\n",
       "    <tr style=\"text-align: right;\">\n",
       "      <th></th>\n",
       "      <th>id</th>\n",
       "      <th>topic</th>\n",
       "      <th>sentiment</th>\n",
       "      <th>text</th>\n",
       "    </tr>\n",
       "  </thead>\n",
       "  <tbody>\n",
       "    <tr>\n",
       "      <th>455</th>\n",
       "      <td>2476</td>\n",
       "      <td>Borderlands</td>\n",
       "      <td>Positive</td>\n",
       "      <td>one</td>\n",
       "    </tr>\n",
       "    <tr>\n",
       "      <th>2094</th>\n",
       "      <td>2767</td>\n",
       "      <td>Borderlands</td>\n",
       "      <td>Positive</td>\n",
       "      <td>Wow</td>\n",
       "    </tr>\n",
       "    <tr>\n",
       "      <th>2095</th>\n",
       "      <td>2767</td>\n",
       "      <td>Borderlands</td>\n",
       "      <td>Positive</td>\n",
       "      <td>Wow</td>\n",
       "    </tr>\n",
       "    <tr>\n",
       "      <th>2096</th>\n",
       "      <td>2767</td>\n",
       "      <td>Borderlands</td>\n",
       "      <td>Positive</td>\n",
       "      <td>Wow</td>\n",
       "    </tr>\n",
       "    <tr>\n",
       "      <th>2097</th>\n",
       "      <td>2767</td>\n",
       "      <td>Borderlands</td>\n",
       "      <td>Positive</td>\n",
       "      <td>Wow</td>\n",
       "    </tr>\n",
       "    <tr>\n",
       "      <th>...</th>\n",
       "      <td>...</td>\n",
       "      <td>...</td>\n",
       "      <td>...</td>\n",
       "      <td>...</td>\n",
       "    </tr>\n",
       "    <tr>\n",
       "      <th>72426</th>\n",
       "      <td>8808</td>\n",
       "      <td>Nvidia</td>\n",
       "      <td>Positive</td>\n",
       "      <td>Wow</td>\n",
       "    </tr>\n",
       "    <tr>\n",
       "      <th>72427</th>\n",
       "      <td>8808</td>\n",
       "      <td>Nvidia</td>\n",
       "      <td>Positive</td>\n",
       "      <td>Wow</td>\n",
       "    </tr>\n",
       "    <tr>\n",
       "      <th>72428</th>\n",
       "      <td>8808</td>\n",
       "      <td>Nvidia</td>\n",
       "      <td>Positive</td>\n",
       "      <td>Wow</td>\n",
       "    </tr>\n",
       "    <tr>\n",
       "      <th>72429</th>\n",
       "      <td>8808</td>\n",
       "      <td>Nvidia</td>\n",
       "      <td>Positive</td>\n",
       "      <td>Wow</td>\n",
       "    </tr>\n",
       "    <tr>\n",
       "      <th>72431</th>\n",
       "      <td>8808</td>\n",
       "      <td>Nvidia</td>\n",
       "      <td>Positive</td>\n",
       "      <td>Wow</td>\n",
       "    </tr>\n",
       "  </tbody>\n",
       "</table>\n",
       "<p>190 rows × 4 columns</p>\n",
       "</div>"
      ],
      "text/plain": [
       "         id        topic sentiment text\n",
       "455    2476  Borderlands  Positive  one\n",
       "2094   2767  Borderlands  Positive  Wow\n",
       "2095   2767  Borderlands  Positive  Wow\n",
       "2096   2767  Borderlands  Positive  Wow\n",
       "2097   2767  Borderlands  Positive  Wow\n",
       "...     ...          ...       ...  ...\n",
       "72426  8808       Nvidia  Positive  Wow\n",
       "72427  8808       Nvidia  Positive  Wow\n",
       "72428  8808       Nvidia  Positive  Wow\n",
       "72429  8808       Nvidia  Positive  Wow\n",
       "72431  8808       Nvidia  Positive  Wow\n",
       "\n",
       "[190 rows x 4 columns]"
      ]
     },
     "execution_count": 27,
     "metadata": {},
     "output_type": "execute_result"
    }
   ],
   "source": [
    "filtered_train.loc[filtered_train[\"text\"].apply(lambda x: len(x) == 3), :]"
   ]
  },
  {
   "attachments": {},
   "cell_type": "markdown",
   "metadata": {},
   "source": [
    "Looks way better now!\n",
    "\n",
    "### Drop Duplicates\n",
    "\n",
    "* Wow occures multiple times\n",
    "* we want to avoid bias through data leackage -> therefore we drop all duplicates\n"
   ]
  },
  {
   "cell_type": "code",
   "execution_count": 28,
   "metadata": {},
   "outputs": [
    {
     "name": "stdout",
     "output_type": "stream",
     "text": [
      "Training examples: 69397\n"
     ]
    }
   ],
   "source": [
    "filtered_train = filtered_train.drop_duplicates(subset=\"text\")\n",
    "print(f\"Training examples: {filtered_train.shape[0]}\")"
   ]
  },
  {
   "attachments": {},
   "cell_type": "markdown",
   "metadata": {},
   "source": [
    "### Check Language\n",
    "\n",
    "* I would check for the language at that point\n",
    "* Execution time on my local machine is too long - therefore I skipped this part\n",
    "\n",
    "-> It is also reasonable to check language before performing inference."
   ]
  },
  {
   "cell_type": "code",
   "execution_count": 29,
   "metadata": {},
   "outputs": [],
   "source": [
    "# from langdetect import detect\n",
    "# from langdetect import LangDetectException\n",
    "\n",
    "\n",
    "# def detect_lang(tweet):\n",
    "#     try:\n",
    "#         language = detect(tweet.lower())\n",
    "#     except LangDetectException:\n",
    "#         language = tweet\n",
    "#     return language\n",
    "\n",
    "# languages = filtered_train[\"text\"].apply(lambda x: detect_lang(x))\n",
    "# set(languages)"
   ]
  },
  {
   "attachments": {},
   "cell_type": "markdown",
   "metadata": {},
   "source": [
    "### ID Field\n",
    "\n",
    "* The provided ID field could either indicate __users__ or __subtopics__\n",
    "* Identical IDs always talk about a similar topic and subtopic\n",
    "* Same ID tweets are always very similar, but not identical\n",
    "\n",
    "--> Playing with them around in the sentiment classification might give variying results, in our current approach we will include all statements from similar IDs"
   ]
  },
  {
   "cell_type": "code",
   "execution_count": 30,
   "metadata": {},
   "outputs": [
    {
     "data": {
      "text/plain": [
       "{'sentiment': {444: 'Positive',\n",
       "  445: 'Positive',\n",
       "  446: 'Positive',\n",
       "  447: 'Positive',\n",
       "  448: 'Positive',\n",
       "  449: 'Positive'},\n",
       " 'text': {444: 'Just officiated a gay wedding in Borderlands 3, feeling powerful rn.',\n",
       "  445: 'I just celebrated a gay wedding in Borderlands 3 and felt powerful.',\n",
       "  446: 'Just played a gay wedding in Borderlands 3, feeling powerful.',\n",
       "  447: 'Just officiated a gay wedding in Borderlands 3, the powerful rn.',\n",
       "  448: 'Just officiated a gay fan wedding in WWE Borderlands Episode 3, feeling powerful rn.',\n",
       "  449: 'once officiated a gay wedding in Borderlands 3, as powerful rn.'}}"
      ]
     },
     "execution_count": 30,
     "metadata": {},
     "output_type": "execute_result"
    }
   ],
   "source": [
    "filtered_train.loc[filtered_train[\"id\"] == 2475, [\"sentiment\", \"text\"]].to_dict()"
   ]
  },
  {
   "attachments": {},
   "cell_type": "markdown",
   "metadata": {},
   "source": [
    "### Class balance after filtering"
   ]
  },
  {
   "cell_type": "code",
   "execution_count": 31,
   "metadata": {},
   "outputs": [
    {
     "data": {
      "text/plain": [
       "<Axes: xlabel='sentiment', ylabel='count'>"
      ]
     },
     "execution_count": 31,
     "metadata": {},
     "output_type": "execute_result"
    },
    {
     "data": {
      "image/png": "[encoded data removed]",
      "text/plain": [
       "<Figure size 640x480 with 1 Axes>"
      ]
     },
     "metadata": {},
     "output_type": "display_data"
    }
   ],
   "source": [
    "sns.countplot(filtered_train, x=\"sentiment\")"
   ]
  },
  {
   "cell_type": "code",
   "execution_count": 32,
   "metadata": {},
   "outputs": [
    {
     "data": {
      "text/plain": [
       "'I\\'m in fact this entire @CBP video. @DHS_Wolf deceptively cut these parts of our report :.. The [UNK] before saying \" this is ripping into Arizona and... the rest side of the borderlands in two. \". [UNK] admittedly surveilling us on public road after violent clashes began with Indigenous American activists over protesting wall.'"
      ]
     },
     "execution_count": 32,
     "metadata": {},
     "output_type": "execute_result"
    }
   ],
   "source": [
    "irrelevant = train.loc[train[\"sentiment\"] == \"Irrelevant\", \"text\"]\n",
    "irrelevant.iloc[22]"
   ]
  },
  {
   "attachments": {},
   "cell_type": "markdown",
   "metadata": {},
   "source": [
    "Looking through a few of the examples marked as _irrelevant_ they do seem __irrelevant for the sentiment__. Therefore these examples will be __excluded from training__.\n",
    "However a __robust Sentiment Classification model should be able to detect, when some examples are out of distribution__ - meaning they are not part of the distribution the model was trained on. There is variety of literature ob that including some previous publications I worked on. For now entries marked as _irrelevant_ in the training set will simply be excluded.\n",
    "\n",
    "\n",
    "Publication Example: [Bounding open space risk with decoupling autoencoders in open set recognition](https://link.springer.com/article/10.1007/s41060-022-00342-z)\n",
    "\n",
    " - Also known as \"Out of Distribution Detection\"\n",
    "\n",
    "Reasons why we exclude irrelevants:\n",
    "\n",
    "* We can not label everything that is incomming as irrelevant, in a productive case\n",
    "* Irrelevant entries capture a way broader variety of words, than relevant once. Traning sets not included in _irrlevant_ in the worst case than be detected as relevant -> the better way to go here is to adjust model estimates for robustness to detect irrelevant entries via poor estimates\n",
    "\n",
    "\n",
    "Entities, seem to be marked wth \"@\" symbols.\n"
   ]
  },
  {
   "cell_type": "code",
   "execution_count": 33,
   "metadata": {},
   "outputs": [
    {
     "name": "stdout",
     "output_type": "stream",
     "text": [
      "Training examples: 69397\n",
      "Validation examples: 1000\n"
     ]
    }
   ],
   "source": [
    "irr_filtered_train = filtered_train.loc[train[\"sentiment\"] != \"Irrelevant\",:]\n",
    "irr_vali = vali.loc[vali[\"sentiment\"] != \"Irrelevant\", :]\n",
    "print(f\"Training examples: {filtered_train.shape[0]}\")\n",
    "print(f\"Validation examples: {vali.shape[0]}\")"
   ]
  },
  {
   "attachments": {},
   "cell_type": "markdown",
   "metadata": {},
   "source": [
    "\n",
    "### Further Options for Analysis:\n",
    "\n",
    "* Plot Word Embeddings, with the Langauge Model we are going to use and get an impression for the difficulty\n",
    "* Identify Edges of the given Training classes --> Which instances are very similar to others?\n",
    "\n",
    "This can also be performed in an ex post analysis, when investigating the probability predictions of the model."
   ]
  },
  {
   "attachments": {},
   "cell_type": "markdown",
   "metadata": {},
   "source": [
    "## 2. Modelbuilding\n",
    "\n",
    "### Preprocessing\n",
    "\n",
    "Each Tweet contains:\n",
    "\n",
    "* Emojis\n",
    "* Links\n",
    "* A lot of Punctuation in some cases\n",
    "* Twitter Entities\n",
    "\n",
    "Apart from that we have to perform:\n",
    "\n",
    "* Stopword removal\n",
    "* Tokenization\n",
    "* Lemmatization - we treat this as optional\n",
    "* Normalization\n",
    "\n",
    "I wrote a [Preprocessor Class](/huk_challenge/model.py) to perform the respective work for that.\n",
    "\n",
    "We also need a ```Language Model``` to transform sentences into the numerical domain. We will use:\n",
    "\n",
    "* [Glove](https://nlp.stanford.edu/pubs/glove.pdf)\n",
    "* Mean Pooling of Tokens per Sentence\n",
    "\n",
    "### Training\n",
    "\n",
    "* train set was prepared, we will use a random forest classifier to detect the sentiment\n",
    "\n",
    "Why random forest:\n",
    "\n",
    "* very simple, but introduces non-linearity\n",
    "* fast trainig and few parameters\n",
    "* robust due to ensemble approach\n",
    "* easy to apply via sci-kit learn"
   ]
  },
  {
   "cell_type": "code",
   "execution_count": 34,
   "metadata": {},
   "outputs": [
    {
     "name": "stderr",
     "output_type": "stream",
     "text": [
      "/home/elysias/Desktop/repos/huk_challenge/.venv/lib/python3.9/site-packages/tqdm/auto.py:21: TqdmWarning: IProgress not found. Please update jupyter and ipywidgets. See https://ipywidgets.readthedocs.io/en/stable/user_install.html\n",
      "  from .autonotebook import tqdm as notebook_tqdm\n",
      "/home/elysias/Desktop/repos/huk_challenge/.venv/lib/python3.9/site-packages/torch/cuda/__init__.py:107: UserWarning: CUDA initialization: Unexpected error from cudaGetDeviceCount(). Did you run some cuda functions before calling NumCudaDevices() that might have already set an error? Error 804: forward compatibility was attempted on non supported HW (Triggered internally at ../c10/cuda/CUDAFunctions.cpp:109.)\n",
      "  return torch._C._cuda_getDeviceCount() > 0\n",
      "[nltk_data] Downloading package stopwords to\n",
      "[nltk_data]     /home/elysias/nltk_data...\n",
      "[nltk_data]   Package stopwords is already up-to-date!\n",
      "[nltk_data] Downloading package punkt to /home/elysias/nltk_data...\n",
      "[nltk_data]   Package punkt is already up-to-date!\n",
      "57195it [00:44, 1295.59it/s]\n"
     ]
    },
    {
     "name": "stdout",
     "output_type": "stream",
     "text": [
      "Preprocessing finished!\n",
      "Model training finished!\n"
     ]
    }
   ],
   "source": [
    "from huk_challenge.model import SKSentimentModel\n",
    "from sklearn.ensemble import RandomForestClassifier\n",
    "\n",
    "model = SKSentimentModel(model=RandomForestClassifier(n_estimators=20, criterion=\"entropy\"))\n",
    "model.train(irr_filtered_train[\"text\"].to_list(), irr_filtered_train[\"sentiment\"].to_list())"
   ]
  },
  {
   "attachments": {},
   "cell_type": "markdown",
   "metadata": {},
   "source": [
    "## 3. Evaluation\n",
    "\n",
    "In order to evaluate our model we have to find an approiate measure. As we have a classification case, we are going to use a confusion matrix.\n",
    "\n",
    "Before we start here some explanations:\n",
    "\n",
    "|Metric|Description|\n",
    "|------|-----------|\n",
    "|Precision| Indicates how often statements of a model are correct.|\n",
    "|Recall| Measures how often a model finds all instances of a particular sentiment|\n",
    "|F1-Score| Gives the harmonic mean of recall and precision, and thus the performance of the model if both metrics are equally balanced|\n",
    "|Accuracy| The average over correctly classified instances and all validation instances|\n",
    "|Support| The number of instances|\n",
    "|Macro| Support of the respective classes is not respected in the metric|\n",
    "|Weighted|Metrics are weighted with the support of the respective class|"
   ]
  },
  {
   "cell_type": "code",
   "execution_count": 35,
   "metadata": {},
   "outputs": [
    {
     "name": "stdout",
     "output_type": "stream",
     "text": [
      "              precision    recall  f1-score   support\n",
      "\n",
      "    Negative       0.84      0.92      0.88       266\n",
      "     Neutral       0.86      0.82      0.84       285\n",
      "    Positive       0.88      0.84      0.86       277\n",
      "\n",
      "    accuracy                           0.86       828\n",
      "   macro avg       0.86      0.86      0.86       828\n",
      "weighted avg       0.86      0.86      0.86       828\n",
      "\n"
     ]
    }
   ],
   "source": [
    "from sklearn.metrics import classification_report\n",
    "\n",
    "targets = []\n",
    "predictions = []\n",
    "prediction_mapping = {\n",
    "    -1: \"Negative\",\n",
    "    0: \"Neutral\",\n",
    "    1: \"Positive\"\n",
    "}\n",
    "for idx, row in irr_vali.iterrows():\n",
    "    prediction = model.predict(row[\"text\"])\n",
    "    predictions.append(prediction_mapping.get(prediction))\n",
    "    if not prediction_mapping.get(prediction):\n",
    "        print(prediction)\n",
    "    targets.append(row[\"sentiment\"])\n",
    "    \n",
    "print(classification_report(targets, predictions))"
   ]
  },
  {
   "attachments": {},
   "cell_type": "markdown",
   "metadata": {},
   "source": [
    "We reached an macro F1-Score of above 0.8, which can serve as a good baseline for future models."
   ]
  },
  {
   "attachments": {},
   "cell_type": "markdown",
   "metadata": {},
   "source": [
    "## Further Steps\n",
    "\n",
    "1. Analysis\n",
    "\n",
    "* Analyse the difficulty of the problem, by visualizing embeddings of different language models, via a PCA or UMAP\n",
    "* Check the probability estimates for _irrelevant_ cases and see, whether there are significantly different from the classes included - if not introduce means for callibration - for ensemble models, more estimators can help in the beginning\n",
    "\n",
    "2. Optimizing performance\n",
    "\n",
    "* Hyperparameter Optimization with e.g. Optuna, Raytune, Katib or other tools\n",
    "* Change to a more complex classification model (e.g. MLP, SVM, or even a transformer if desperatly needed)\n",
    "* change to a Context aware language model (e.g. ELMO, BERT, or other Transformer based models)\n",
    "\n",
    "3. Productive Deployment\n",
    "\n",
    "* Write it as a service via Flask\n",
    "* Since the model runs majorly on CPU: dockerize it with a python base image - use some orchestration tool (e.g. Docker Compose, Kubernetes) to deploy it\n",
    "* Other alternatives are also MLOps tools like Kubeflow, Ray, etc."
   ]
  },
  {
   "attachments": {},
   "cell_type": "markdown",
   "metadata": {},
   "source": [
    "### Irrelevant Model\n",
    "\n",
    "For Completion we also include a model with _irrelevant_ as a class.\n"
   ]
  },
  {
   "cell_type": "code",
   "execution_count": 36,
   "metadata": {},
   "outputs": [
    {
     "name": "stderr",
     "output_type": "stream",
     "text": [
      "69397it [01:03, 1092.12it/s]\n"
     ]
    },
    {
     "name": "stdout",
     "output_type": "stream",
     "text": [
      "Preprocessing finished!\n",
      "Model training finished!\n"
     ]
    }
   ],
   "source": [
    "model_2 = SKSentimentModel(model=RandomForestClassifier(n_estimators=20, criterion=\"entropy\"))\n",
    "model_2.train(filtered_train[\"text\"].to_list(), filtered_train[\"sentiment\"].to_list())"
   ]
  },
  {
   "cell_type": "code",
   "execution_count": 37,
   "metadata": {},
   "outputs": [
    {
     "name": "stdout",
     "output_type": "stream",
     "text": [
      "              precision    recall  f1-score   support\n",
      "\n",
      "  Irrelevant       0.87      0.73      0.79       172\n",
      "    Negative       0.77      0.90      0.83       266\n",
      "     Neutral       0.81      0.79      0.80       285\n",
      "    Positive       0.81      0.79      0.80       277\n",
      "\n",
      "    accuracy                           0.81      1000\n",
      "   macro avg       0.82      0.80      0.81      1000\n",
      "weighted avg       0.81      0.81      0.81      1000\n",
      "\n"
     ]
    }
   ],
   "source": [
    "targets = []\n",
    "predictions = []\n",
    "prediction_mapping = {\n",
    "    -1: \"Negative\",\n",
    "    0: \"Neutral\",\n",
    "    1: \"Positive\",\n",
    "    99: \"Irrelevant\"\n",
    "}\n",
    "for idx, row in vali.iterrows():\n",
    "    prediction = model_2.predict(row[\"text\"])\n",
    "    predictions.append(prediction_mapping.get(prediction))\n",
    "    targets.append(row[\"sentiment\"])\n",
    "    \n",
    "print(classification_report(targets, predictions))"
   ]
  },
  {
   "attachments": {},
   "cell_type": "markdown",
   "metadata": {},
   "source": [
    "We see a slight decrease in performance, whereas Irrelevant entries are the worst performing onces. Also we had lower number of instances for these entries.\n",
    "\n",
    "I would still rather favour an approach where we classify only the sentiment and go for model robustness, enabeling us to use model estimates for identifiying irrelevant entries. As irrelevant entries can come in all shapes or forms and thus we may run into an distributional shift issue."
   ]
  },
  {
   "cell_type": "markdown",
   "metadata": {},
   "source": []
  }
 ],
 "metadata": {
  "kernelspec": {
   "display_name": ".venv",
   "language": "python",
   "name": "python3"
  },
  "language_info": {
   "codemirror_mode": {
    "name": "ipython",
    "version": 3
   },
   "file_extension": ".py",
   "mimetype": "text/x-python",
   "name": "python",
   "nbconvert_exporter": "python",
   "pygments_lexer": "ipython3",
   "version": "3.9.6"
  },
  "orig_nbformat": 4
 },
 "nbformat": 4,
 "nbformat_minor": 2
}
